{
  "nbformat": 4,
  "nbformat_minor": 0,
  "metadata": {
    "colab": {
      "provenance": [],
      "authorship_tag": "ABX9TyMT6jTgiAo6f4Qq/D2yaNa9",
      "include_colab_link": true
    },
    "kernelspec": {
      "name": "python3",
      "display_name": "Python 3"
    },
    "language_info": {
      "name": "python"
    }
  },
  "cells": [
    {
      "cell_type": "markdown",
      "metadata": {
        "id": "view-in-github",
        "colab_type": "text"
      },
      "source": [
        "<a href=\"https://colab.research.google.com/github/shatlykgurdov/3.1.2/blob/main/task2.ipynb\" target=\"_parent\"><img src=\"https://colab.research.google.com/assets/colab-badge.svg\" alt=\"Open In Colab\"/></a>"
      ]
    },
    {
      "cell_type": "code",
      "execution_count": null,
      "metadata": {
        "id": "r8m06dbW2SpX"
      },
      "outputs": [],
      "source": [
        "# ============================================\n",
        "# Task 2 – Yield Curve Modeling (a–d)\n",
        "# ============================================\n",
        "import numpy as np\n",
        "import matplotlib.pyplot as plt\n",
        "from scipy.optimize import curve_fit\n",
        "from scipy.interpolate import CubicSpline\n",
        "\n",
        "# ------------------------------\n",
        "# (a) Choice of government securities\n",
        "# ------------------------------\n",
        "maturities = np.array([0.5, 2, 5, 10, 20, 30])           # years\n",
        "yields_pct = np.array([4.5, 4.7, 4.9, 5.1, 5.3, 5.4])    # percent\n",
        "\n",
        "# ------------------------------\n",
        "# (b) Nelson–Siegel model and fit (stable)\n",
        "# ------------------------------\n",
        "def _ns_terms_stable(tau, lam):\n",
        "    \"\"\"\n",
        "    Stable computation of:\n",
        "      term1 = (1 - e^{-x}) / x\n",
        "      term2 = term1 - e^{-x}\n",
        "    where x = tau / lam.\n",
        "    Uses expm1 and a series expansion for small x to avoid overflow/underflow.\n",
        "    \"\"\"\n",
        "    x = tau / lam\n",
        "    term1 = np.empty_like(x, dtype=float)\n",
        "\n",
        "    small = np.abs(x) < 1e-6\n",
        "    # Stable for general x: (1 - e^{-x}) = -expm1(-x)\n",
        "    term1[~small] = (-np.expm1(-x[~small])) / x[~small]\n",
        "    # Series expansion for very small x\n",
        "    xs = x[small]\n",
        "    term1[small] = 1 - xs/2 + xs**2/6\n",
        "\n",
        "    term2 = term1 - np.exp(-x)\n",
        "    return term1, term2\n",
        "\n",
        "def nelson_siegel(tau, beta0, beta1, beta2, lam):\n",
        "    t1, t2 = _ns_terms_stable(tau, lam)\n",
        "    return beta0 + beta1 * t1 + beta2 * t2\n",
        "\n",
        "# Fit with bounds to keep λ positive and not tiny (prevents warnings)\n",
        "p0 = [np.mean(yields_pct), -1.0, 1.0, 2.0]                     # initial guess\n",
        "bounds = ([0.0,  -10.0, -10.0, 0.05], [20.0, 10.0, 10.0, 50.0]) # (lower, upper)\n",
        "\n",
        "with np.errstate(over='ignore', invalid='ignore', under='ignore'):\n",
        "    params, _ = curve_fit(nelson_siegel, maturities, yields_pct,\n",
        "                          p0=p0, bounds=bounds, maxfev=20000)\n",
        "beta0, beta1, beta2, lam = params\n",
        "\n",
        "# Optional goodness-of-fit on observed points\n",
        "ns_on_points = nelson_siegel(maturities, *params)\n",
        "rmse = float(np.sqrt(np.mean((ns_on_points - yields_pct)**2)))\n",
        "\n",
        "# ------------------------------\n",
        "# (c) Cubic Spline interpolation\n",
        "# ------------------------------\n",
        "cs = CubicSpline(maturities, yields_pct, bc_type='not-a-knot')\n",
        "\n",
        "# ------------------------------\n",
        "# (d) Plot comparison\n",
        "# ------------------------------\n",
        "tau_fit = np.linspace(maturities.min(), maturities.max(), 400)\n",
        "ns_fit = nelson_siegel(tau_fit, *params)\n",
        "spline_fit = cs(tau_fit)\n",
        "\n",
        "plt.figure(figsize=(9,6))\n",
        "plt.scatter(maturities, yields_pct, label=\"Observed Yields\", zorder=3)\n",
        "plt.plot(tau_fit, ns_fit, label=\"Nelson–Siegel Fit\", linewidth=2)\n",
        "plt.plot(tau_fit, spline_fit, label=\"Cubic Spline Fit\", linestyle=\"--\", linewidth=2)\n",
        "plt.xlabel(\"Maturity (Years)\")\n",
        "plt.ylabel(\"Yield (%)\")\n",
        "plt.title(\"Task 2: Yield Curve — Nelson–Siegel vs. Cubic Spline\")\n",
        "plt.legend()\n",
        "plt.tight_layout()\n",
        "plt.show()\n",
        "\n",
        "print(\"Nelson–Siegel parameters:\")\n",
        "print(f\"  β0 (level)     = {beta0:.6f}\")\n",
        "print(f\"  β1 (slope)     = {beta1:.6f}\")\n",
        "print(f\"  β2 (curvature) = {beta2:.6f}\")\n",
        "print(f\"  λ  (decay)     = {lam:.6f}\")\n",
        "print(f\"Nelson–Siegel RMSE on observed points = {rmse:.6f}\")\n"
      ]
    }
  ]
}
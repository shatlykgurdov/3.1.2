{
  "nbformat": 4,
  "nbformat_minor": 0,
  "metadata": {
    "colab": {
      "provenance": [],
      "authorship_tag": "ABX9TyN1wzdR4H3DYHqGzSqgu1Wd"
    },
    "kernelspec": {
      "name": "python3",
      "display_name": "Python 3"
    },
    "language_info": {
      "name": "python"
    }
  },
  "cells": [
    {
      "cell_type": "code",
      "execution_count": null,
      "metadata": {
        "id": "r8m06dbW2SpX"
      },
      "outputs": [],
      "source": [
        "# Task 2 – Yield Curve Modeling\n",
        "import numpy as np\n",
        "import matplotlib.pyplot as plt\n",
        "from scipy.optimize import curve_fit\n",
        "from scipy.interpolate import CubicSpline\n",
        "\n",
        "# ------------------------------\n",
        "# a) Choice of government securities\n",
        "# ------------------------------\n",
        "maturities = np.array([0.5, 2, 5, 10, 20, 30])           # in years\n",
        "yields_pct = np.array([4.5, 4.7, 4.9, 5.1, 5.3, 5.4])    # example yields in percent\n",
        "\n",
        "# ------------------------------\n",
        "# b) Nelson–Siegel model and fit\n",
        "# ------------------------------\n",
        "def nelson_siegel(tau, beta0, beta1, beta2, lambd):\n",
        "    \"\"\"Nelson–Siegel functional form for par yield.\"\"\"\n",
        "    term1 = (1 - np.exp(-tau / lambd)) / (tau / lambd)\n",
        "    term2 = term1 - np.exp(-tau / lambd)\n",
        "    return beta0 + beta1 * term1 + beta2 * term2\n",
        "\n",
        "# Reasonable starting values help convergence; units match 'yields_pct'\n",
        "p0 = [np.mean(yields_pct), -0.5, 0.5, 2.0]\n",
        "params, _ = curve_fit(nelson_siegel, maturities, yields_pct, p0=p0, maxfev=10000)\n",
        "beta0, beta1, beta2, lambd = params\n",
        "\n",
        "tau_fit = np.linspace(maturities.min(), maturities.max(), 400)\n",
        "ns_fit = nelson_siegel(tau_fit, *params)\n",
        "\n",
        "# ------------------------------\n",
        "# c) Cubic Spline interpolation\n",
        "# ------------------------------\n",
        "cs = CubicSpline(maturities, yields_pct, bc_type='not-a-knot')\n",
        "spline_fit = cs(tau_fit)\n",
        "\n",
        "# ------------------------------\n",
        "# d) Plot comparison\n",
        "# ------------------------------\n",
        "plt.figure(figsize=(9,6))\n",
        "plt.scatter(maturities, yields_pct, label=\"Observed Yields\", zorder=3)\n",
        "plt.plot(tau_fit, ns_fit, label=\"Nelson–Siegel Fit\", linewidth=2)\n",
        "plt.plot(tau_fit, spline_fit, label=\"Cubic Spline Fit\", linestyle=\"--\", linewidth=2)\n",
        "plt.xlabel(\"Maturity (Years)\")\n",
        "plt.ylabel(\"Yield (%)\")\n",
        "plt.title(\"Yield Curve: Nelson–Siegel vs. Cubic Spline\")\n",
        "plt.legend()\n",
        "plt.tight_layout()\n",
        "plt.show()\n",
        "\n",
        "print(\"Nelson–Siegel parameters:\")\n",
        "print(f\"  β0 (level)    = {beta0:.4f}\")\n",
        "print(f\"  β1 (slope)    = {beta1:.4f}\")\n",
        "print(f\"  β2 (curvature)= {beta2:.4f}\")\n",
        "print(f\"  λ  (decay)    = {lambd:.4f}\")\n"
      ]
    }
  ]
}
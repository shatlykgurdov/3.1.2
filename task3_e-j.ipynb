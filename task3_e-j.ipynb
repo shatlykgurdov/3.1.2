{
  "nbformat": 4,
  "nbformat_minor": 0,
  "metadata": {
    "colab": {
      "provenance": [],
      "authorship_tag": "ABX9TyOIqlCqeRlesA+vb011zKym"
    },
    "kernelspec": {
      "name": "python3",
      "display_name": "Python 3"
    },
    "language_info": {
      "name": "python"
    }
  },
  "cells": [
    {
      "cell_type": "code",
      "execution_count": null,
      "metadata": {
        "id": "2rzRH1u4ovL6"
      },
      "outputs": [],
      "source": [
        "# Task 3 – Part 2: Real government yields (FRED) + PCA + screeplot (fixed)\n",
        "!pip -q install pandas_datareader\n",
        "\n",
        "import pandas as pd\n",
        "import numpy as np\n",
        "import matplotlib.pyplot as plt\n",
        "from pandas_datareader import data as pdr\n",
        "from datetime import date, timedelta\n",
        "from numpy.linalg import eigh\n",
        "\n",
        "# e) Collect daily constant-maturity Treasury yields (FRED) for ~6–7 months\n",
        "end = date.today()\n",
        "start = end - timedelta(days=210)   # get enough business days for PCA\n",
        "\n",
        "fred_series = {\n",
        "    \"3M\":  \"DGS3MO\",\n",
        "    \"2Y\":  \"DGS2\",\n",
        "    \"5Y\":  \"DGS5\",\n",
        "    \"10Y\": \"DGS10\",\n",
        "    \"30Y\": \"DGS30\"\n",
        "}\n",
        "\n",
        "# Robust download: fetch each series, rename, concat\n",
        "frames = []\n",
        "for label, fred_code in fred_series.items():\n",
        "    s = pdr.DataReader(fred_code, \"fred\", start, end)      # returns a Series/DataFrame with a single column\n",
        "    if isinstance(s, pd.DataFrame):\n",
        "        # If FRED returns a 1-col DataFrame, squeeze to Series\n",
        "        s = s.iloc[:, 0]\n",
        "    s = s.rename(label)\n",
        "    frames.append(s)\n",
        "\n",
        "yields = pd.concat(frames, axis=1).sort_index()\n",
        "yields = yields.ffill().dropna(how=\"any\")  # forward-fill holidays, drop if still missing\n",
        "\n",
        "# f) Daily yield changes\n",
        "dy = yields.diff().dropna()\n",
        "\n",
        "# g) PCA on correlation matrix\n",
        "C_real = np.corrcoef(dy.T)\n",
        "eigvals_r, eigvecs_r = eigh(C_real)     # ascending order\n",
        "idx = eigvals_r.argsort()[::-1]\n",
        "eigvals_r = eigvals_r[idx]\n",
        "eigvecs_r = eigvecs_r[:, idx]\n",
        "\n",
        "# h) Variance explained\n",
        "var_exp_r = eigvals_r / eigvals_r.sum()\n",
        "print(\"Variance explained (real yields):\", np.round(var_exp_r, 3))\n",
        "\n",
        "# i) Screeplot\n",
        "plt.figure(figsize=(6,4))\n",
        "plt.plot(range(1, len(var_exp_r)+1), var_exp_r, marker=\"o\")\n",
        "plt.xticks(range(1, len(var_exp_r)+1))\n",
        "plt.xlabel(\"Principal Component\")\n",
        "plt.ylabel(\"Variance Explained\")\n",
        "plt.title(\"Screeplot – Real Gov’t Yield Changes (FRED)\")\n",
        "plt.tight_layout()\n",
        "plt.show()\n",
        "\n",
        "# j) Brief comparison notes\n",
        "print(\"\\nComparison notes:\")\n",
        "print(\"- Simulated uncorrelated data: PCs explain roughly equal variance.\")\n",
        "print(\"- Real Treasury yields: PC1 usually dominates (level), followed by slope/curvature PCs.\")\n"
      ]
    }
  ]
}
{
  "nbformat": 4,
  "nbformat_minor": 0,
  "metadata": {
    "colab": {
      "provenance": [],
      "authorship_tag": "ABX9TyPiuRVHH9/Is0VLF0ls9Mk6"
    },
    "kernelspec": {
      "name": "python3",
      "display_name": "Python 3"
    },
    "language_info": {
      "name": "python"
    }
  },
  "cells": [
    {
      "cell_type": "code",
      "execution_count": null,
      "metadata": {
        "id": "1cBKJa5zzjlx"
      },
      "outputs": [],
      "source": [
        "# Task 4 – ETF Analysis (SPY, TLT, GLD)\n",
        "# Simple, robust, and Colab-ready\n",
        "\n",
        "!pip -q install yfinance --upgrade\n",
        "\n",
        "import yfinance as yf\n",
        "import pandas as pd\n",
        "import numpy as np\n",
        "import matplotlib.pyplot as plt\n",
        "\n",
        "# ------------------------------\n",
        "# a) Download prices (auto_adjust=True → adjusted prices live in 'Close')\n",
        "# ------------------------------\n",
        "tickers = [\"SPY\", \"TLT\", \"GLD\"]\n",
        "START, END = \"2022-01-01\", \"2023-01-01\"\n",
        "\n",
        "df = yf.download(tickers, start=START, end=END, auto_adjust=True, progress=False)\n",
        "\n",
        "# Extract a clean price frame whether columns are MultiIndex or not\n",
        "if isinstance(df.columns, pd.MultiIndex):\n",
        "    prices = df['Close']              # works with auto_adjust=True\n",
        "    prices = prices.dropna(how=\"all\")\n",
        "else:\n",
        "    # single-index fallback (rare with multiple tickers)\n",
        "    prices = df[['Close']].copy() if 'Close' in df.columns else df.copy()\n",
        "    if prices.shape[1] == 1:\n",
        "        prices.columns = [tickers[0]]\n",
        "\n",
        "# ------------------------------\n",
        "# b) Compute daily returns\n",
        "# ------------------------------\n",
        "returns = prices.pct_change().dropna()\n",
        "\n",
        "# ------------------------------\n",
        "# c) Annualized performance metrics (252 trading days)\n",
        "# ------------------------------\n",
        "mean_ann = returns.mean() * 252\n",
        "vol_ann  = returns.std() * np.sqrt(252)\n",
        "sharpe   = mean_ann / vol_ann\n",
        "\n",
        "metrics = pd.DataFrame({\n",
        "    \"Mean Return (ann.)\": mean_ann,\n",
        "    \"Volatility (ann.)\": vol_ann,\n",
        "    \"Sharpe Ratio\": sharpe\n",
        "}).round(4)\n",
        "\n",
        "print(\"Task 4 – Annualized Performance Metrics\")\n",
        "print(metrics)\n",
        "print()\n",
        "\n",
        "# ------------------------------\n",
        "# d) Correlation matrix + heatmap\n",
        "# ------------------------------\n",
        "corr = returns.corr().round(3)\n",
        "print(\"Task 4 – Correlation Matrix\")\n",
        "print(corr)\n",
        "\n",
        "plt.figure(figsize=(6,5))\n",
        "plt.imshow(corr, cmap=\"coolwarm\", interpolation=\"none\")\n",
        "plt.xticks(range(len(corr)), corr.columns, rotation=45)\n",
        "plt.yticks(range(len(corr)), corr.columns)\n",
        "plt.colorbar(label=\"Correlation\")\n",
        "plt.title(\"Task 4: ETF Correlation Matrix (Daily Returns)\")\n",
        "plt.tight_layout()\n",
        "plt.show()\n"
      ]
    }
  ]
}
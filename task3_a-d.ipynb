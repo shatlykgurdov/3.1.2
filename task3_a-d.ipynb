{
  "nbformat": 4,
  "nbformat_minor": 0,
  "metadata": {
    "colab": {
      "provenance": [],
      "authorship_tag": "ABX9TyNiKBqhKvZqYjoaamthFMC4"
    },
    "kernelspec": {
      "name": "python3",
      "display_name": "Python 3"
    },
    "language_info": {
      "name": "python"
    }
  },
  "cells": [
    {
      "cell_type": "code",
      "execution_count": null,
      "metadata": {
        "id": "2rzRH1u4ovL6"
      },
      "outputs": [],
      "source": [
        "# Task 3 – Part 1: Simulated uncorrelated yield changes + PCA\n",
        "import numpy as np\n",
        "import pandas as pd\n",
        "import matplotlib.pyplot as plt\n",
        "\n",
        "np.random.seed(0)\n",
        "\n",
        "# a) 5 uncorrelated Gaussian variables (mean≈0, small std)\n",
        "n = 250\n",
        "X = np.random.normal(loc=0.0, scale=0.01, size=(n, 5))\n",
        "cols = [f\"Y{i+1}\" for i in range(5)]\n",
        "df = pd.DataFrame(X, columns=cols)\n",
        "\n",
        "# b) PCA using correlation matrix\n",
        "from numpy.linalg import eigh\n",
        "C = np.corrcoef(df.T)\n",
        "eigvals, eigvecs = eigh(C)          # returns ascending order\n",
        "idx = eigvals.argsort()[::-1]       # descending\n",
        "eigvals = eigvals[idx]\n",
        "eigvecs = eigvecs[:, idx]\n",
        "\n",
        "# c) Variance explained per component\n",
        "var_exp = eigvals / eigvals.sum()\n",
        "print(\"Variance explained (simulated):\", np.round(var_exp, 3))\n",
        "\n",
        "# d) Screeplot\n",
        "plt.figure(figsize=(6,4))\n",
        "plt.plot(range(1, len(var_exp)+1), var_exp, marker=\"o\")\n",
        "plt.xticks(range(1, len(var_exp)+1))\n",
        "plt.xlabel(\"Principal Component\")\n",
        "plt.ylabel(\"Variance Explained\")\n",
        "plt.title(\"Screeplot – Simulated (Uncorrelated)\")\n",
        "plt.tight_layout()\n",
        "plt.show()\n"
      ]
    }
  ]
}